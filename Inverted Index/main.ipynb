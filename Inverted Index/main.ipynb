{
 "cells": [
  {
   "cell_type": "markdown",
   "metadata": {},
   "source": [
    "**Index Construction**"
   ]
  },
  {
   "cell_type": "code",
   "execution_count": 1,
   "metadata": {},
   "outputs": [],
   "source": [
    "import re\n",
    "\n",
    "def extract_words(filename):\n",
    "    with open(filename, \"r\") as file:\n",
    "        content = file.read()\n",
    "        words = re.findall(r\"\\b\\w+\\b\", content)\n",
    "        return words\n",
    "    \n",
    "def termDocId_index(words,docID,term_docId):\n",
    "    for word in words:\n",
    "        word=word.lower()\n",
    "        if word not in term_docId:\n",
    "            term_docId[word]=[docID]\n",
    "        elif term_docId[word][-1]!=docID:\n",
    "            term_docId[word].append(docID)\n",
    "    return term_docId"
   ]
  },
  {
   "cell_type": "code",
   "execution_count": 28,
   "metadata": {},
   "outputs": [],
   "source": [
    "import os\n",
    "\n",
    "def inverted_index():\n",
    "\n",
    "    global term_docId,index\n",
    "    term_docId,index={},{}\n",
    "\n",
    "    file_path=os.getcwd()\n",
    "    files=[file for file in os.listdir(file_path) if file.endswith(\".txt\")]\n",
    "\n",
    "    for i in range(len(files)):\n",
    "        docID=i+1\n",
    "        words=extract_words(files[i])\n",
    "        term_docId=termDocId_index(words,docID,term_docId)\n",
    "        sorted_term_docId=dict(sorted(term_docId.items()))\n",
    "\n",
    "    for word,docID in sorted_term_docId.items():\n",
    "        if word not in index:\n",
    "            index[word]=docID\n",
    "        else:\n",
    "            index[word].extend(docID)\n",
    "\n",
    "    print(\"The inverted index for given docs is:\")\n",
    "    for k,v in index.items():\n",
    "        print(k,'->',v)\n"
   ]
  },
  {
   "cell_type": "code",
   "execution_count": 21,
   "metadata": {},
   "outputs": [
    {
     "name": "stdout",
     "output_type": "stream",
     "text": [
      "The inverted index for given docs is:\n",
      "forecasts -> [1]\n",
      "home -> [1, 2, 3, 4]\n",
      "in -> [2, 3]\n",
      "increase -> [3]\n",
      "july -> [2, 3, 4]\n",
      "new -> [1, 4]\n",
      "rise -> [2, 4]\n",
      "sales -> [1, 2, 3, 4]\n",
      "top -> [1]\n"
     ]
    }
   ],
   "source": [
    "inverted_index()"
   ]
  },
  {
   "cell_type": "code",
   "execution_count": 44,
   "metadata": {},
   "outputs": [],
   "source": [
    "\n",
    "# * Intersection of posting lists of words\n",
    "def intersect(word1, word2):\n",
    "    list1 = index[word1]\n",
    "    list2 = index[word2]\n",
    "    intersected_list = [val for val in list1 if val in list2]\n",
    "\n",
    "    return intersected_list\n",
    "    # return list(set().intersection(list1,list2))\n",
    "\n",
    "\n",
    "# * Union of posting lists of words\n",
    "def union(word1, word2):\n",
    "    list1 = index[word1]\n",
    "    list2 = index[word2]\n",
    "\n",
    "    return list(set().union(list1, list2))\n",
    "\n",
    "\n",
    "def difference(word1, word2):\n",
    "    list1 = index[word1]\n",
    "    list2 = index[word2]\n",
    "\n",
    "    return list(set(list1) - set(list2))"
   ]
  },
  {
   "cell_type": "code",
   "execution_count": 49,
   "metadata": {},
   "outputs": [],
   "source": [
    "def process_query(query, s1, s2):\n",
    "    if query == \"AND\" or query == \"and\":\n",
    "        return intersect(s1, s2)\n",
    "    elif query == \"OR\" or query == \"or\":\n",
    "        return union(s1, s2)\n",
    "    else:\n",
    "        return difference(s1, s2)"
   ]
  },
  {
   "cell_type": "markdown",
   "metadata": {},
   "source": [
    "**Processing Boolean Queries**"
   ]
  },
  {
   "cell_type": "code",
   "execution_count": 50,
   "metadata": {},
   "outputs": [
    {
     "data": {
      "text/plain": [
       "[4]"
      ]
     },
     "execution_count": 50,
     "metadata": {},
     "output_type": "execute_result"
    }
   ],
   "source": [
    "s1 = input(\"Enter the word1:\")\n",
    "s2 = input(\"Enter the word2:\")\n",
    "process_query(\"and\", s1, s2)"
   ]
  }
 ],
 "metadata": {
  "kernelspec": {
   "display_name": "Python 3",
   "language": "python",
   "name": "python3"
  },
  "language_info": {
   "codemirror_mode": {
    "name": "ipython",
    "version": 3
   },
   "file_extension": ".py",
   "mimetype": "text/x-python",
   "name": "python",
   "nbconvert_exporter": "python",
   "pygments_lexer": "ipython3",
   "version": "3.12.2"
  }
 },
 "nbformat": 4,
 "nbformat_minor": 2
}
