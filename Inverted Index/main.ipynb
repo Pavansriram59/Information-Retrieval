{
 "cells": [
  {
   "cell_type": "code",
   "execution_count": 51,
   "metadata": {},
   "outputs": [],
   "source": [
    "import re\n",
    "\n",
    "def extract_words(filename):\n",
    "    with open(filename, \"r\") as file:\n",
    "        content = file.read()\n",
    "        words = re.findall(r\"\\b\\w+\\b\", content)\n",
    "        return words\n",
    "    \n",
    "def termDocId_index(words,docID,term_docId):\n",
    "    for word in words:\n",
    "        if word not in term_docId and term_docId[word]!=docID:\n",
    "            term_docId[word]=docID\n",
    "    return term_docId"
   ]
  },
  {
   "cell_type": "code",
   "execution_count": 52,
   "metadata": {},
   "outputs": [],
   "source": [
    "import os\n",
    "\n",
    "def inverted_index():\n",
    "    term_docId,index={},{}\n",
    "\n",
    "    file_path=os.getcwd()\n",
    "    files=[file for file in os.listdir(file_path) if file.endswith(\".txt\")]\n",
    "\n",
    "    for i in range(len(files)):\n",
    "        docID=i+1\n",
    "        words=extract_words(files[i])\n",
    "        term_docId=termDocId_index(words,docID,term_docId)\n",
    "        sorted_term_docId=dict(sorted(term_docId.items()))\n",
    "\n",
    "    freq=1\n",
    "    for word,docID in sorted_term_docId.items():\n",
    "        if word not in index:\n",
    "            index[(word,freq)]=[docID]\n",
    "        else:\n",
    "            index[(word,freq+1)].append(docID)\n",
    "\n",
    "    print(\"The inverted index for given docs is:\")\n",
    "    for k,v in term_docId.items():\n",
    "        print(k,'->',v)\n"
   ]
  },
  {
   "cell_type": "code",
   "execution_count": 53,
   "metadata": {},
   "outputs": [
    {
     "ename": "KeyError",
     "evalue": "'I'",
     "output_type": "error",
     "traceback": [
      "\u001b[1;31m---------------------------------------------------------------------------\u001b[0m",
      "\u001b[1;31mKeyError\u001b[0m                                  Traceback (most recent call last)",
      "Cell \u001b[1;32mIn[53], line 1\u001b[0m\n\u001b[1;32m----> 1\u001b[0m \u001b[43minverted_index\u001b[49m\u001b[43m(\u001b[49m\u001b[43m)\u001b[49m\n",
      "Cell \u001b[1;32mIn[52], line 12\u001b[0m, in \u001b[0;36minverted_index\u001b[1;34m()\u001b[0m\n\u001b[0;32m     10\u001b[0m     docID\u001b[38;5;241m=\u001b[39mi\u001b[38;5;241m+\u001b[39m\u001b[38;5;241m1\u001b[39m\n\u001b[0;32m     11\u001b[0m     words\u001b[38;5;241m=\u001b[39mextract_words(files[i])\n\u001b[1;32m---> 12\u001b[0m     term_docId\u001b[38;5;241m=\u001b[39m\u001b[43mtermDocId_index\u001b[49m\u001b[43m(\u001b[49m\u001b[43mwords\u001b[49m\u001b[43m,\u001b[49m\u001b[43mdocID\u001b[49m\u001b[43m,\u001b[49m\u001b[43mterm_docId\u001b[49m\u001b[43m)\u001b[49m\n\u001b[0;32m     13\u001b[0m     sorted_term_docId\u001b[38;5;241m=\u001b[39m\u001b[38;5;28mdict\u001b[39m(\u001b[38;5;28msorted\u001b[39m(term_docId\u001b[38;5;241m.\u001b[39mitems()))\n\u001b[0;32m     15\u001b[0m freq\u001b[38;5;241m=\u001b[39m\u001b[38;5;241m1\u001b[39m\n",
      "Cell \u001b[1;32mIn[51], line 11\u001b[0m, in \u001b[0;36mtermDocId_index\u001b[1;34m(words, docID, term_docId)\u001b[0m\n\u001b[0;32m      9\u001b[0m \u001b[38;5;28;01mdef\u001b[39;00m \u001b[38;5;21mtermDocId_index\u001b[39m(words,docID,term_docId):\n\u001b[0;32m     10\u001b[0m     \u001b[38;5;28;01mfor\u001b[39;00m word \u001b[38;5;129;01min\u001b[39;00m words:\n\u001b[1;32m---> 11\u001b[0m         \u001b[38;5;28;01mif\u001b[39;00m word \u001b[38;5;129;01mnot\u001b[39;00m \u001b[38;5;129;01min\u001b[39;00m term_docId \u001b[38;5;129;01mand\u001b[39;00m \u001b[43mterm_docId\u001b[49m\u001b[43m[\u001b[49m\u001b[43mword\u001b[49m\u001b[43m]\u001b[49m\u001b[38;5;241m!=\u001b[39mdocID:\n\u001b[0;32m     12\u001b[0m             term_docId[word]\u001b[38;5;241m=\u001b[39mdocID\n\u001b[0;32m     13\u001b[0m     \u001b[38;5;28;01mreturn\u001b[39;00m term_docId\n",
      "\u001b[1;31mKeyError\u001b[0m: 'I'"
     ]
    }
   ],
   "source": [
    "inverted_index()"
   ]
  }
 ],
 "metadata": {
  "kernelspec": {
   "display_name": "Python 3",
   "language": "python",
   "name": "python3"
  },
  "language_info": {
   "codemirror_mode": {
    "name": "ipython",
    "version": 3
   },
   "file_extension": ".py",
   "mimetype": "text/x-python",
   "name": "python",
   "nbconvert_exporter": "python",
   "pygments_lexer": "ipython3",
   "version": "3.12.2"
  }
 },
 "nbformat": 4,
 "nbformat_minor": 2
}
