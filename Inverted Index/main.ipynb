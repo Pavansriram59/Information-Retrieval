{
 "cells": [
  {
   "cell_type": "code",
   "execution_count": 25,
   "metadata": {},
   "outputs": [],
   "source": [
    "import re\n",
    "\n",
    "def extract_words(filename):\n",
    "    with open(filename, \"r\") as file:\n",
    "        content = file.read()\n",
    "        words = re.findall(r\"\\b\\w+\\b\", content)\n",
    "        return words\n",
    "    \n",
    "def termDocId_index(words,docID,term_docId):\n",
    "    for word in words:\n",
    "        if word not in term_docId:\n",
    "            term_docId[word.lower()]=docID\n",
    "    return term_docId"
   ]
  },
  {
   "cell_type": "code",
   "execution_count": 26,
   "metadata": {},
   "outputs": [],
   "source": [
    "def inverted_index(docs):\n",
    "    term_docId,index={},{}\n",
    "\n",
    "    for i in range(len(docs)):\n",
    "\n",
    "        words,docID=[],i+1\n",
    "        words.extend(extract_words(docs[i]))\n",
    "\n",
    "        term_docId=termDocId_index(words,docID,term_docId)\n",
    "        sorted_term_docId=dict(sorted(term_docId.items()))\n"
   ]
  },
  {
   "cell_type": "code",
   "execution_count": 27,
   "metadata": {},
   "outputs": [
    {
     "name": "stdout",
     "output_type": "stream",
     "text": [
      "ambitious --> 2\n",
      "be --> 2\n",
      "brutus --> 2\n",
      "caesar --> 2\n",
      "capitol --> 1\n",
      "did --> 1\n",
      "enact --> 1\n",
      "hath --> 2\n",
      "i --> 1\n",
      "it --> 2\n",
      "julius --> 1\n",
      "killed --> 1\n",
      "let --> 2\n",
      "me --> 1\n",
      "noble --> 2\n",
      "so --> 2\n",
      "the --> 2\n",
      "told --> 2\n",
      "was --> 1\n",
      "with --> 2\n",
      "you --> 2\n"
     ]
    }
   ],
   "source": [
    "doc1 = \"./doc1.txt\"\n",
    "doc2 = \"./doc2.txt\"\n",
    "docs = [doc1, doc2]\n",
    "inverted_index(docs)"
   ]
  }
 ],
 "metadata": {
  "kernelspec": {
   "display_name": "Python 3",
   "language": "python",
   "name": "python3"
  },
  "language_info": {
   "codemirror_mode": {
    "name": "ipython",
    "version": 3
   },
   "file_extension": ".py",
   "mimetype": "text/x-python",
   "name": "python",
   "nbconvert_exporter": "python",
   "pygments_lexer": "ipython3",
   "version": "3.12.2"
  }
 },
 "nbformat": 4,
 "nbformat_minor": 2
}
