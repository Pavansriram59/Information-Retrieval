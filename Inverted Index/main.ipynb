{
 "cells": [
  {
   "cell_type": "code",
   "execution_count": 50,
   "metadata": {},
   "outputs": [],
   "source": [
    "import re\n",
    "\n",
    "def extract_words(filename):\n",
    "    with open(filename, \"r\") as file:\n",
    "        content = file.read()\n",
    "        words = re.findall(r\"\\b\\w+\\b\", content)\n",
    "        return words\n",
    "    \n",
    "def termDocId_index(words,docID,term_docId):\n",
    "    for word in words:\n",
    "        word=word.lower()\n",
    "        if word not in term_docId:\n",
    "            term_docId[word]=[docID]\n",
    "        elif term_docId[word][-1]!=docID:\n",
    "            term_docId[word].append(docID)\n",
    "    return term_docId"
   ]
  },
  {
   "cell_type": "code",
   "execution_count": 52,
   "metadata": {},
   "outputs": [],
   "source": [
    "import os\n",
    "\n",
    "def inverted_index():\n",
    "    term_docId,index={},{}\n",
    "\n",
    "    file_path=os.getcwd()\n",
    "    files=[file for file in os.listdir(file_path) if file.endswith(\".txt\")]\n",
    "\n",
    "    for i in range(len(files)):\n",
    "        docID=i+1\n",
    "        words=extract_words(files[i])\n",
    "        term_docId=termDocId_index(words,docID,term_docId)\n",
    "        sorted_term_docId=dict(sorted(term_docId.items()))\n",
    "\n",
    "    for word,docID in sorted_term_docId.items():\n",
    "        if word not in index:\n",
    "            index[(word,len(docID))]=docID\n",
    "        else:\n",
    "            index[(word,len(docID))].extend(docID)\n",
    "\n",
    "    print(\"The inverted index for given docs is:\")\n",
    "    for k,v in index.items():\n",
    "        print(k,'->',v)\n"
   ]
  },
  {
   "cell_type": "code",
   "execution_count": 53,
   "metadata": {},
   "outputs": [
    {
     "name": "stdout",
     "output_type": "stream",
     "text": [
      "The inverted index for given docs is:\n",
      "('ambitious', 1) -> [2]\n",
      "('be', 1) -> [2]\n",
      "('brutus', 2) -> [1, 2]\n",
      "('caesar', 2) -> [1, 2]\n",
      "('capitol', 1) -> [1]\n",
      "('did', 1) -> [1]\n",
      "('enact', 1) -> [1]\n",
      "('hath', 1) -> [2]\n",
      "('i', 1) -> [1]\n",
      "('it', 1) -> [2]\n",
      "('julius', 1) -> [1]\n",
      "('killed', 1) -> [1]\n",
      "('let', 1) -> [2]\n",
      "('me', 1) -> [1]\n",
      "('noble', 1) -> [2]\n",
      "('so', 1) -> [2]\n",
      "('the', 2) -> [1, 2]\n",
      "('told', 1) -> [2]\n",
      "('was', 2) -> [1, 2]\n",
      "('with', 1) -> [2]\n",
      "('you', 1) -> [2]\n"
     ]
    }
   ],
   "source": [
    "inverted_index()"
   ]
  }
 ],
 "metadata": {
  "kernelspec": {
   "display_name": "Python 3",
   "language": "python",
   "name": "python3"
  },
  "language_info": {
   "codemirror_mode": {
    "name": "ipython",
    "version": 3
   },
   "file_extension": ".py",
   "mimetype": "text/x-python",
   "name": "python",
   "nbconvert_exporter": "python",
   "pygments_lexer": "ipython3",
   "version": "3.12.2"
  }
 },
 "nbformat": 4,
 "nbformat_minor": 2
}
